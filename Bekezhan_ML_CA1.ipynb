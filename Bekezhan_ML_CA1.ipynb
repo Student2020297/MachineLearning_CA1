{
 "cells": [
  {
   "cell_type": "markdown",
   "id": "130a0066",
   "metadata": {},
   "source": [
    "### Load and Explore the Data (EDA):\n",
    "\n",
    "Load the dataset \"log2.csv\" into a Pandas DataFrame. \n",
    "Explore the dataset to understand its structure, distribution, missing values, and any other relevant characteristics.\n",
    "Specifically, examine the distribution of the target variable (\"Action\") to understand class imbalances.\n",
    "\n",
    "### Data Preparation:\n",
    "\n",
    "Handle any missing values or outliers appropriately.\n",
    "Encode categorical variables, such as \"Action\", into numerical format suitable for modeling.\n",
    "Split the dataset into training and testing sets for model evaluation.\n",
    "\n",
    "### Classification Algorithms:\n",
    "\n",
    "Choose at least two classification algorithms suitable for this task. Common choices might include Decision Trees, Random Forests, Support Vector Machines, Logistic Regression, etc.\n",
    "Implement the chosen algorithms using appropriate libraries (e.g., Scikit-learn).\n",
    "Train the models on the training set and evaluate their performance on the testing set using appropriate metrics (e.g., accuracy, precision, recall, F1-score, etc.).\n",
    "Experiment with hyperparameter tuning or feature selection techniques to improve the models' performance if necessary.\n",
    "\n",
    "### Analysis and Discussion:\n",
    "\n",
    "Discuss the findings from the exploratory data analysis (EDA) and how they might influence the choice of classification algorithms.\n",
    "Explain the rationale behind the data preparation steps taken and how they contribute to better model performance.\n",
    "Compare the performance of the different classification algorithms tested and justify the final choice of algorithm.\n",
    "Comment on any observed accuracy differential between the training and testing sets and discuss potential reasons for any discrepancies.\n",
    " \n",
    "### Documentation:\n",
    "\n",
    "Document your entire process in a Jupyter Notebook using Markdown for explanations.\n",
    "Include code blocks with Python code for data loading, preprocessing, model implementation, evaluation, and any other relevant tasks.\n",
    "Provide detailed explanations for each step and your thought process behind decisions made.\n",
    "Include visualizations (e.g., histograms, box plots, confusion matrices) to illustrate key points and findings.\n",
    "\n",
    "### GitHub Repository:\n",
    "\n",
    "Create a GitHub repository to host your Jupyter Notebook and any associated files.\n",
    "Ensure that the repository is well-organized and includes clear documentation.\n",
    "Include the link to your GitHub repository in your submission.\n",
    "By following these steps, you should be able to complete the task effectively and provide a comprehensive analysis of the dataset and the performance of the classification algorithms tested."
   ]
  },
  {
   "cell_type": "markdown",
   "id": "01f5dbc2",
   "metadata": {},
   "source": [
    "1. **Import Libraries**:\n",
    "   - Import necessary libraries for data manipulation, visualization, and machine learning algorithms.\n",
    "\n",
    "2. **Load the Dataset**:\n",
    "   - Use Pandas to read the dataset from a file into a DataFrame.\n",
    "\n",
    "3. **Exploratory Data Analysis (EDA)**:\n",
    "   - Examine dataset structure, data types, summary statistics, distributions, and identify missing values and outliers.\n",
    "\n",
    "4. **Data Preprocessing**:\n",
    "   - Handle missing values, encode categorical variables, scale numerical features, and split the dataset into features and labels.\n",
    "\n",
    "5. **Split Data into Training and Testing Sets**:\n",
    "   - Split the dataset into training and testing sets.\n",
    "\n",
    "6. **Choose a Model**:\n",
    "   - Select a machine learning algorithm suitable for the problem type.\n",
    "\n",
    "7. **Train the Model**:\n",
    "   - Train the selected model using the training dataset.\n",
    "\n",
    "8. **Evaluate the Model**:\n",
    "   - Evaluate the model's performance using the testing dataset.\n",
    "\n",
    "9. **Tune Hyperparameters** (Optional):\n",
    "   - Fine-tune the model's hyperparameters to improve performance.\n",
    "\n",
    "10. **Make Predictions**:\n",
    "    - Use the trained model to make predictions on new data.\n",
    "\n",
    "11. **Evaluate and Iterate**:\n",
    "    - Evaluate the model's performance on real-world data and iterate as necessary.\n",
    "\n",
    "12. **Deploy the Model** (Optional):\n",
    "    - If the model performs satisfactorily, deploy it in a production environment."
   ]
  },
  {
   "cell_type": "markdown",
   "id": "2824038e",
   "metadata": {},
   "source": [
    "### Step 1: Import Python Libraries"
   ]
  },
  {
   "cell_type": "code",
   "execution_count": 21,
   "id": "2bbd8ae0",
   "metadata": {},
   "outputs": [],
   "source": [
    "import pandas as pd\n",
    "import numpy as np\n",
    "import matplotlib.pyplot as plt\n",
    "import seaborn as sns\n",
    "#to ignore warnings\n",
    "import warnings\n",
    "warnings.filterwarnings('ignore')\n",
    "\n",
    "from sklearn.preprocessing import MinMaxScaler"
   ]
  },
  {
   "cell_type": "markdown",
   "id": "d7cc4d42",
   "metadata": {},
   "source": [
    "### Step 2: Load the Dataset"
   ]
  },
  {
   "cell_type": "code",
   "execution_count": 3,
   "id": "2149799e",
   "metadata": {},
   "outputs": [],
   "source": [
    "df = pd.read_csv(\"log2.csv\")"
   ]
  },
  {
   "cell_type": "markdown",
   "id": "8cd3969a",
   "metadata": {},
   "source": [
    "### Step 3: Exploratory Data Analysis (EDA)"
   ]
  },
  {
   "cell_type": "markdown",
   "id": "fd554373",
   "metadata": {},
   "source": [
    "#### Display the First  Rows:"
   ]
  },
  {
   "cell_type": "code",
   "execution_count": 4,
   "id": "3fc14a24",
   "metadata": {
    "scrolled": true
   },
   "outputs": [
    {
     "data": {
      "text/html": [
       "<div>\n",
       "<style scoped>\n",
       "    .dataframe tbody tr th:only-of-type {\n",
       "        vertical-align: middle;\n",
       "    }\n",
       "\n",
       "    .dataframe tbody tr th {\n",
       "        vertical-align: top;\n",
       "    }\n",
       "\n",
       "    .dataframe thead th {\n",
       "        text-align: right;\n",
       "    }\n",
       "</style>\n",
       "<table border=\"1\" class=\"dataframe\">\n",
       "  <thead>\n",
       "    <tr style=\"text-align: right;\">\n",
       "      <th></th>\n",
       "      <th>Source Port</th>\n",
       "      <th>Destination Port</th>\n",
       "      <th>NAT Source Port</th>\n",
       "      <th>NAT Destination Port</th>\n",
       "      <th>Bytes</th>\n",
       "      <th>Bytes Sent</th>\n",
       "      <th>Bytes Received</th>\n",
       "      <th>Packets</th>\n",
       "      <th>Elapsed Time (sec)</th>\n",
       "      <th>pkts_sent</th>\n",
       "      <th>pkts_received</th>\n",
       "      <th>Action</th>\n",
       "    </tr>\n",
       "  </thead>\n",
       "  <tbody>\n",
       "    <tr>\n",
       "      <th>0</th>\n",
       "      <td>57222</td>\n",
       "      <td>53</td>\n",
       "      <td>54587</td>\n",
       "      <td>53</td>\n",
       "      <td>177</td>\n",
       "      <td>94</td>\n",
       "      <td>83</td>\n",
       "      <td>2</td>\n",
       "      <td>30</td>\n",
       "      <td>1</td>\n",
       "      <td>1</td>\n",
       "      <td>allow</td>\n",
       "    </tr>\n",
       "    <tr>\n",
       "      <th>1</th>\n",
       "      <td>56258</td>\n",
       "      <td>3389</td>\n",
       "      <td>56258</td>\n",
       "      <td>3389</td>\n",
       "      <td>4768</td>\n",
       "      <td>1600</td>\n",
       "      <td>3168</td>\n",
       "      <td>19</td>\n",
       "      <td>17</td>\n",
       "      <td>10</td>\n",
       "      <td>9</td>\n",
       "      <td>allow</td>\n",
       "    </tr>\n",
       "    <tr>\n",
       "      <th>2</th>\n",
       "      <td>6881</td>\n",
       "      <td>50321</td>\n",
       "      <td>43265</td>\n",
       "      <td>50321</td>\n",
       "      <td>238</td>\n",
       "      <td>118</td>\n",
       "      <td>120</td>\n",
       "      <td>2</td>\n",
       "      <td>1199</td>\n",
       "      <td>1</td>\n",
       "      <td>1</td>\n",
       "      <td>allow</td>\n",
       "    </tr>\n",
       "    <tr>\n",
       "      <th>3</th>\n",
       "      <td>50553</td>\n",
       "      <td>3389</td>\n",
       "      <td>50553</td>\n",
       "      <td>3389</td>\n",
       "      <td>3327</td>\n",
       "      <td>1438</td>\n",
       "      <td>1889</td>\n",
       "      <td>15</td>\n",
       "      <td>17</td>\n",
       "      <td>8</td>\n",
       "      <td>7</td>\n",
       "      <td>allow</td>\n",
       "    </tr>\n",
       "    <tr>\n",
       "      <th>4</th>\n",
       "      <td>50002</td>\n",
       "      <td>443</td>\n",
       "      <td>45848</td>\n",
       "      <td>443</td>\n",
       "      <td>25358</td>\n",
       "      <td>6778</td>\n",
       "      <td>18580</td>\n",
       "      <td>31</td>\n",
       "      <td>16</td>\n",
       "      <td>13</td>\n",
       "      <td>18</td>\n",
       "      <td>allow</td>\n",
       "    </tr>\n",
       "    <tr>\n",
       "      <th>5</th>\n",
       "      <td>51465</td>\n",
       "      <td>443</td>\n",
       "      <td>39975</td>\n",
       "      <td>443</td>\n",
       "      <td>3961</td>\n",
       "      <td>1595</td>\n",
       "      <td>2366</td>\n",
       "      <td>21</td>\n",
       "      <td>16</td>\n",
       "      <td>12</td>\n",
       "      <td>9</td>\n",
       "      <td>allow</td>\n",
       "    </tr>\n",
       "    <tr>\n",
       "      <th>6</th>\n",
       "      <td>60513</td>\n",
       "      <td>47094</td>\n",
       "      <td>45469</td>\n",
       "      <td>47094</td>\n",
       "      <td>320</td>\n",
       "      <td>140</td>\n",
       "      <td>180</td>\n",
       "      <td>6</td>\n",
       "      <td>7</td>\n",
       "      <td>3</td>\n",
       "      <td>3</td>\n",
       "      <td>allow</td>\n",
       "    </tr>\n",
       "    <tr>\n",
       "      <th>7</th>\n",
       "      <td>50049</td>\n",
       "      <td>443</td>\n",
       "      <td>21285</td>\n",
       "      <td>443</td>\n",
       "      <td>7912</td>\n",
       "      <td>3269</td>\n",
       "      <td>4643</td>\n",
       "      <td>23</td>\n",
       "      <td>96</td>\n",
       "      <td>12</td>\n",
       "      <td>11</td>\n",
       "      <td>allow</td>\n",
       "    </tr>\n",
       "    <tr>\n",
       "      <th>8</th>\n",
       "      <td>52244</td>\n",
       "      <td>58774</td>\n",
       "      <td>2211</td>\n",
       "      <td>58774</td>\n",
       "      <td>70</td>\n",
       "      <td>70</td>\n",
       "      <td>0</td>\n",
       "      <td>1</td>\n",
       "      <td>5</td>\n",
       "      <td>1</td>\n",
       "      <td>0</td>\n",
       "      <td>allow</td>\n",
       "    </tr>\n",
       "    <tr>\n",
       "      <th>9</th>\n",
       "      <td>50627</td>\n",
       "      <td>443</td>\n",
       "      <td>16215</td>\n",
       "      <td>443</td>\n",
       "      <td>8256</td>\n",
       "      <td>1674</td>\n",
       "      <td>6582</td>\n",
       "      <td>31</td>\n",
       "      <td>75</td>\n",
       "      <td>15</td>\n",
       "      <td>16</td>\n",
       "      <td>allow</td>\n",
       "    </tr>\n",
       "  </tbody>\n",
       "</table>\n",
       "</div>"
      ],
      "text/plain": [
       "   Source Port  Destination Port  NAT Source Port  NAT Destination Port  \\\n",
       "0        57222                53            54587                    53   \n",
       "1        56258              3389            56258                  3389   \n",
       "2         6881             50321            43265                 50321   \n",
       "3        50553              3389            50553                  3389   \n",
       "4        50002               443            45848                   443   \n",
       "5        51465               443            39975                   443   \n",
       "6        60513             47094            45469                 47094   \n",
       "7        50049               443            21285                   443   \n",
       "8        52244             58774             2211                 58774   \n",
       "9        50627               443            16215                   443   \n",
       "\n",
       "   Bytes  Bytes Sent  Bytes Received  Packets  Elapsed Time (sec)  pkts_sent  \\\n",
       "0    177          94              83        2                  30          1   \n",
       "1   4768        1600            3168       19                  17         10   \n",
       "2    238         118             120        2                1199          1   \n",
       "3   3327        1438            1889       15                  17          8   \n",
       "4  25358        6778           18580       31                  16         13   \n",
       "5   3961        1595            2366       21                  16         12   \n",
       "6    320         140             180        6                   7          3   \n",
       "7   7912        3269            4643       23                  96         12   \n",
       "8     70          70               0        1                   5          1   \n",
       "9   8256        1674            6582       31                  75         15   \n",
       "\n",
       "   pkts_received Action  \n",
       "0              1  allow  \n",
       "1              9  allow  \n",
       "2              1  allow  \n",
       "3              7  allow  \n",
       "4             18  allow  \n",
       "5              9  allow  \n",
       "6              3  allow  \n",
       "7             11  allow  \n",
       "8              0  allow  \n",
       "9             16  allow  "
      ]
     },
     "execution_count": 4,
     "metadata": {},
     "output_type": "execute_result"
    }
   ],
   "source": [
    "df.head(10)"
   ]
  },
  {
   "cell_type": "markdown",
   "id": "928575d7",
   "metadata": {},
   "source": [
    "#### Examine the Structure of the Dataset:"
   ]
  },
  {
   "cell_type": "code",
   "execution_count": 5,
   "id": "fc63a5eb",
   "metadata": {},
   "outputs": [
    {
     "name": "stdout",
     "output_type": "stream",
     "text": [
      "Shape of the dataset: (65532, 12)\n"
     ]
    }
   ],
   "source": [
    "# Check the number of rows and columns in the dataset.\n",
    "print(\"Shape of the dataset:\", df.shape)"
   ]
  },
  {
   "cell_type": "markdown",
   "id": "efbc0dde",
   "metadata": {},
   "source": [
    "#### Check Data Types:"
   ]
  },
  {
   "cell_type": "code",
   "execution_count": 6,
   "id": "dda13124",
   "metadata": {
    "scrolled": true
   },
   "outputs": [
    {
     "name": "stdout",
     "output_type": "stream",
     "text": [
      "<class 'pandas.core.frame.DataFrame'>\n",
      "RangeIndex: 65532 entries, 0 to 65531\n",
      "Data columns (total 12 columns):\n",
      " #   Column                Non-Null Count  Dtype \n",
      "---  ------                --------------  ----- \n",
      " 0   Source Port           65532 non-null  int64 \n",
      " 1   Destination Port      65532 non-null  int64 \n",
      " 2   NAT Source Port       65532 non-null  int64 \n",
      " 3   NAT Destination Port  65532 non-null  int64 \n",
      " 4   Bytes                 65532 non-null  int64 \n",
      " 5   Bytes Sent            65532 non-null  int64 \n",
      " 6   Bytes Received        65532 non-null  int64 \n",
      " 7   Packets               65532 non-null  int64 \n",
      " 8   Elapsed Time (sec)    65532 non-null  int64 \n",
      " 9   pkts_sent             65532 non-null  int64 \n",
      " 10  pkts_received         65532 non-null  int64 \n",
      " 11  Action                65532 non-null  object\n",
      "dtypes: int64(11), object(1)\n",
      "memory usage: 6.0+ MB\n"
     ]
    },
    {
     "data": {
      "text/plain": [
       "' \\nhelps to understand the data type and information about data, \\nincluding the number of records in each column, data having null or not null, \\nData type, the memory usage of the dataset'"
      ]
     },
     "execution_count": 6,
     "metadata": {},
     "output_type": "execute_result"
    }
   ],
   "source": [
    "df.info() \n",
    "\"\"\" \n",
    "helps to understand the data type and information about data, \n",
    "including the number of records in each column, data having null or not null, \n",
    "Data type, the memory usage of the dataset\"\"\""
   ]
  },
  {
   "cell_type": "code",
   "execution_count": 7,
   "id": "d8001a5c",
   "metadata": {
    "scrolled": true
   },
   "outputs": [
    {
     "name": "stdout",
     "output_type": "stream",
     "text": [
      "Source Port              int64\n",
      "Destination Port         int64\n",
      "NAT Source Port          int64\n",
      "NAT Destination Port     int64\n",
      "Bytes                    int64\n",
      "Bytes Sent               int64\n",
      "Bytes Received           int64\n",
      "Packets                  int64\n",
      "Elapsed Time (sec)       int64\n",
      "pkts_sent                int64\n",
      "pkts_received            int64\n",
      "Action                  object\n",
      "dtype: object\n"
     ]
    }
   ],
   "source": [
    "print(df.dtypes)"
   ]
  },
  {
   "cell_type": "code",
   "execution_count": 8,
   "id": "2696699c",
   "metadata": {},
   "outputs": [
    {
     "data": {
      "text/plain": [
       "Source Port             22724\n",
       "Destination Port         3273\n",
       "NAT Source Port         29152\n",
       "NAT Destination Port     2533\n",
       "Bytes                   10724\n",
       "Bytes Sent               6683\n",
       "Bytes Received           8814\n",
       "Packets                  1116\n",
       "Elapsed Time (sec)        915\n",
       "pkts_sent                 749\n",
       "pkts_received             922\n",
       "Action                      4\n",
       "dtype: int64"
      ]
     },
     "execution_count": 8,
     "metadata": {},
     "output_type": "execute_result"
    }
   ],
   "source": [
    "# Check for Duplication\n",
    "#The nunique() method returns the number of unique values for each column.\n",
    "df.nunique()"
   ]
  },
  {
   "cell_type": "markdown",
   "id": "317705a0",
   "metadata": {},
   "source": [
    "#### Summary Statistics for Numerical Columns:"
   ]
  },
  {
   "cell_type": "code",
   "execution_count": 9,
   "id": "59f37737",
   "metadata": {},
   "outputs": [
    {
     "data": {
      "text/html": [
       "<div>\n",
       "<style scoped>\n",
       "    .dataframe tbody tr th:only-of-type {\n",
       "        vertical-align: middle;\n",
       "    }\n",
       "\n",
       "    .dataframe tbody tr th {\n",
       "        vertical-align: top;\n",
       "    }\n",
       "\n",
       "    .dataframe thead th {\n",
       "        text-align: right;\n",
       "    }\n",
       "</style>\n",
       "<table border=\"1\" class=\"dataframe\">\n",
       "  <thead>\n",
       "    <tr style=\"text-align: right;\">\n",
       "      <th></th>\n",
       "      <th>Source Port</th>\n",
       "      <th>Destination Port</th>\n",
       "      <th>NAT Source Port</th>\n",
       "      <th>NAT Destination Port</th>\n",
       "      <th>Bytes</th>\n",
       "      <th>Bytes Sent</th>\n",
       "      <th>Bytes Received</th>\n",
       "      <th>Packets</th>\n",
       "      <th>Elapsed Time (sec)</th>\n",
       "      <th>pkts_sent</th>\n",
       "      <th>pkts_received</th>\n",
       "    </tr>\n",
       "  </thead>\n",
       "  <tbody>\n",
       "    <tr>\n",
       "      <th>count</th>\n",
       "      <td>65532.000000</td>\n",
       "      <td>65532.000000</td>\n",
       "      <td>65532.000000</td>\n",
       "      <td>65532.000000</td>\n",
       "      <td>6.553200e+04</td>\n",
       "      <td>6.553200e+04</td>\n",
       "      <td>6.553200e+04</td>\n",
       "      <td>6.553200e+04</td>\n",
       "      <td>65532.000000</td>\n",
       "      <td>65532.000000</td>\n",
       "      <td>65532.000000</td>\n",
       "    </tr>\n",
       "    <tr>\n",
       "      <th>mean</th>\n",
       "      <td>49391.969343</td>\n",
       "      <td>10577.385812</td>\n",
       "      <td>19282.972761</td>\n",
       "      <td>2671.049930</td>\n",
       "      <td>9.712395e+04</td>\n",
       "      <td>2.238580e+04</td>\n",
       "      <td>7.473815e+04</td>\n",
       "      <td>1.028660e+02</td>\n",
       "      <td>65.833577</td>\n",
       "      <td>41.399530</td>\n",
       "      <td>61.466505</td>\n",
       "    </tr>\n",
       "    <tr>\n",
       "      <th>std</th>\n",
       "      <td>15255.712537</td>\n",
       "      <td>18466.027039</td>\n",
       "      <td>21970.689669</td>\n",
       "      <td>9739.162278</td>\n",
       "      <td>5.618439e+06</td>\n",
       "      <td>3.828139e+06</td>\n",
       "      <td>2.463208e+06</td>\n",
       "      <td>5.133002e+03</td>\n",
       "      <td>302.461762</td>\n",
       "      <td>3218.871288</td>\n",
       "      <td>2223.332271</td>\n",
       "    </tr>\n",
       "    <tr>\n",
       "      <th>min</th>\n",
       "      <td>0.000000</td>\n",
       "      <td>0.000000</td>\n",
       "      <td>0.000000</td>\n",
       "      <td>0.000000</td>\n",
       "      <td>6.000000e+01</td>\n",
       "      <td>6.000000e+01</td>\n",
       "      <td>0.000000e+00</td>\n",
       "      <td>1.000000e+00</td>\n",
       "      <td>0.000000</td>\n",
       "      <td>1.000000</td>\n",
       "      <td>0.000000</td>\n",
       "    </tr>\n",
       "    <tr>\n",
       "      <th>25%</th>\n",
       "      <td>49183.000000</td>\n",
       "      <td>80.000000</td>\n",
       "      <td>0.000000</td>\n",
       "      <td>0.000000</td>\n",
       "      <td>6.600000e+01</td>\n",
       "      <td>6.600000e+01</td>\n",
       "      <td>0.000000e+00</td>\n",
       "      <td>1.000000e+00</td>\n",
       "      <td>0.000000</td>\n",
       "      <td>1.000000</td>\n",
       "      <td>0.000000</td>\n",
       "    </tr>\n",
       "    <tr>\n",
       "      <th>50%</th>\n",
       "      <td>53776.500000</td>\n",
       "      <td>445.000000</td>\n",
       "      <td>8820.500000</td>\n",
       "      <td>53.000000</td>\n",
       "      <td>1.680000e+02</td>\n",
       "      <td>9.000000e+01</td>\n",
       "      <td>7.900000e+01</td>\n",
       "      <td>2.000000e+00</td>\n",
       "      <td>15.000000</td>\n",
       "      <td>1.000000</td>\n",
       "      <td>1.000000</td>\n",
       "    </tr>\n",
       "    <tr>\n",
       "      <th>75%</th>\n",
       "      <td>58638.000000</td>\n",
       "      <td>15000.000000</td>\n",
       "      <td>38366.250000</td>\n",
       "      <td>443.000000</td>\n",
       "      <td>7.522500e+02</td>\n",
       "      <td>2.100000e+02</td>\n",
       "      <td>4.490000e+02</td>\n",
       "      <td>6.000000e+00</td>\n",
       "      <td>30.000000</td>\n",
       "      <td>3.000000</td>\n",
       "      <td>2.000000</td>\n",
       "    </tr>\n",
       "    <tr>\n",
       "      <th>max</th>\n",
       "      <td>65534.000000</td>\n",
       "      <td>65535.000000</td>\n",
       "      <td>65535.000000</td>\n",
       "      <td>65535.000000</td>\n",
       "      <td>1.269359e+09</td>\n",
       "      <td>9.484772e+08</td>\n",
       "      <td>3.208818e+08</td>\n",
       "      <td>1.036116e+06</td>\n",
       "      <td>10824.000000</td>\n",
       "      <td>747520.000000</td>\n",
       "      <td>327208.000000</td>\n",
       "    </tr>\n",
       "  </tbody>\n",
       "</table>\n",
       "</div>"
      ],
      "text/plain": [
       "        Source Port  Destination Port  NAT Source Port  NAT Destination Port  \\\n",
       "count  65532.000000      65532.000000     65532.000000          65532.000000   \n",
       "mean   49391.969343      10577.385812     19282.972761           2671.049930   \n",
       "std    15255.712537      18466.027039     21970.689669           9739.162278   \n",
       "min        0.000000          0.000000         0.000000              0.000000   \n",
       "25%    49183.000000         80.000000         0.000000              0.000000   \n",
       "50%    53776.500000        445.000000      8820.500000             53.000000   \n",
       "75%    58638.000000      15000.000000     38366.250000            443.000000   \n",
       "max    65534.000000      65535.000000     65535.000000          65535.000000   \n",
       "\n",
       "              Bytes    Bytes Sent  Bytes Received       Packets  \\\n",
       "count  6.553200e+04  6.553200e+04    6.553200e+04  6.553200e+04   \n",
       "mean   9.712395e+04  2.238580e+04    7.473815e+04  1.028660e+02   \n",
       "std    5.618439e+06  3.828139e+06    2.463208e+06  5.133002e+03   \n",
       "min    6.000000e+01  6.000000e+01    0.000000e+00  1.000000e+00   \n",
       "25%    6.600000e+01  6.600000e+01    0.000000e+00  1.000000e+00   \n",
       "50%    1.680000e+02  9.000000e+01    7.900000e+01  2.000000e+00   \n",
       "75%    7.522500e+02  2.100000e+02    4.490000e+02  6.000000e+00   \n",
       "max    1.269359e+09  9.484772e+08    3.208818e+08  1.036116e+06   \n",
       "\n",
       "       Elapsed Time (sec)      pkts_sent  pkts_received  \n",
       "count        65532.000000   65532.000000   65532.000000  \n",
       "mean            65.833577      41.399530      61.466505  \n",
       "std            302.461762    3218.871288    2223.332271  \n",
       "min              0.000000       1.000000       0.000000  \n",
       "25%              0.000000       1.000000       0.000000  \n",
       "50%             15.000000       1.000000       1.000000  \n",
       "75%             30.000000       3.000000       2.000000  \n",
       "max          10824.000000  747520.000000  327208.000000  "
      ]
     },
     "execution_count": 9,
     "metadata": {},
     "output_type": "execute_result"
    }
   ],
   "source": [
    "#Calculate summary statistics for numerical columns (mean, median, standard deviation, etc.).\n",
    "df.describe()"
   ]
  },
  {
   "cell_type": "code",
   "execution_count": 10,
   "id": "15c36679",
   "metadata": {},
   "outputs": [
    {
     "data": {
      "text/html": [
       "<div>\n",
       "<style scoped>\n",
       "    .dataframe tbody tr th:only-of-type {\n",
       "        vertical-align: middle;\n",
       "    }\n",
       "\n",
       "    .dataframe tbody tr th {\n",
       "        vertical-align: top;\n",
       "    }\n",
       "\n",
       "    .dataframe thead th {\n",
       "        text-align: right;\n",
       "    }\n",
       "</style>\n",
       "<table border=\"1\" class=\"dataframe\">\n",
       "  <thead>\n",
       "    <tr style=\"text-align: right;\">\n",
       "      <th></th>\n",
       "      <th>Source Port</th>\n",
       "      <th>Destination Port</th>\n",
       "      <th>NAT Source Port</th>\n",
       "      <th>NAT Destination Port</th>\n",
       "      <th>Bytes</th>\n",
       "      <th>Bytes Sent</th>\n",
       "      <th>Bytes Received</th>\n",
       "      <th>Packets</th>\n",
       "      <th>Elapsed Time (sec)</th>\n",
       "      <th>pkts_sent</th>\n",
       "      <th>pkts_received</th>\n",
       "      <th>Action</th>\n",
       "    </tr>\n",
       "  </thead>\n",
       "  <tbody>\n",
       "    <tr>\n",
       "      <th>0</th>\n",
       "      <td>False</td>\n",
       "      <td>False</td>\n",
       "      <td>False</td>\n",
       "      <td>False</td>\n",
       "      <td>False</td>\n",
       "      <td>False</td>\n",
       "      <td>False</td>\n",
       "      <td>False</td>\n",
       "      <td>False</td>\n",
       "      <td>False</td>\n",
       "      <td>False</td>\n",
       "      <td>False</td>\n",
       "    </tr>\n",
       "    <tr>\n",
       "      <th>1</th>\n",
       "      <td>False</td>\n",
       "      <td>False</td>\n",
       "      <td>False</td>\n",
       "      <td>False</td>\n",
       "      <td>False</td>\n",
       "      <td>False</td>\n",
       "      <td>False</td>\n",
       "      <td>False</td>\n",
       "      <td>False</td>\n",
       "      <td>False</td>\n",
       "      <td>False</td>\n",
       "      <td>False</td>\n",
       "    </tr>\n",
       "    <tr>\n",
       "      <th>2</th>\n",
       "      <td>False</td>\n",
       "      <td>False</td>\n",
       "      <td>False</td>\n",
       "      <td>False</td>\n",
       "      <td>False</td>\n",
       "      <td>False</td>\n",
       "      <td>False</td>\n",
       "      <td>False</td>\n",
       "      <td>False</td>\n",
       "      <td>False</td>\n",
       "      <td>False</td>\n",
       "      <td>False</td>\n",
       "    </tr>\n",
       "    <tr>\n",
       "      <th>3</th>\n",
       "      <td>False</td>\n",
       "      <td>False</td>\n",
       "      <td>False</td>\n",
       "      <td>False</td>\n",
       "      <td>False</td>\n",
       "      <td>False</td>\n",
       "      <td>False</td>\n",
       "      <td>False</td>\n",
       "      <td>False</td>\n",
       "      <td>False</td>\n",
       "      <td>False</td>\n",
       "      <td>False</td>\n",
       "    </tr>\n",
       "    <tr>\n",
       "      <th>4</th>\n",
       "      <td>False</td>\n",
       "      <td>False</td>\n",
       "      <td>False</td>\n",
       "      <td>False</td>\n",
       "      <td>False</td>\n",
       "      <td>False</td>\n",
       "      <td>False</td>\n",
       "      <td>False</td>\n",
       "      <td>False</td>\n",
       "      <td>False</td>\n",
       "      <td>False</td>\n",
       "      <td>False</td>\n",
       "    </tr>\n",
       "    <tr>\n",
       "      <th>...</th>\n",
       "      <td>...</td>\n",
       "      <td>...</td>\n",
       "      <td>...</td>\n",
       "      <td>...</td>\n",
       "      <td>...</td>\n",
       "      <td>...</td>\n",
       "      <td>...</td>\n",
       "      <td>...</td>\n",
       "      <td>...</td>\n",
       "      <td>...</td>\n",
       "      <td>...</td>\n",
       "      <td>...</td>\n",
       "    </tr>\n",
       "    <tr>\n",
       "      <th>65527</th>\n",
       "      <td>False</td>\n",
       "      <td>False</td>\n",
       "      <td>False</td>\n",
       "      <td>False</td>\n",
       "      <td>False</td>\n",
       "      <td>False</td>\n",
       "      <td>False</td>\n",
       "      <td>False</td>\n",
       "      <td>False</td>\n",
       "      <td>False</td>\n",
       "      <td>False</td>\n",
       "      <td>False</td>\n",
       "    </tr>\n",
       "    <tr>\n",
       "      <th>65528</th>\n",
       "      <td>False</td>\n",
       "      <td>False</td>\n",
       "      <td>False</td>\n",
       "      <td>False</td>\n",
       "      <td>False</td>\n",
       "      <td>False</td>\n",
       "      <td>False</td>\n",
       "      <td>False</td>\n",
       "      <td>False</td>\n",
       "      <td>False</td>\n",
       "      <td>False</td>\n",
       "      <td>False</td>\n",
       "    </tr>\n",
       "    <tr>\n",
       "      <th>65529</th>\n",
       "      <td>False</td>\n",
       "      <td>False</td>\n",
       "      <td>False</td>\n",
       "      <td>False</td>\n",
       "      <td>False</td>\n",
       "      <td>False</td>\n",
       "      <td>False</td>\n",
       "      <td>False</td>\n",
       "      <td>False</td>\n",
       "      <td>False</td>\n",
       "      <td>False</td>\n",
       "      <td>False</td>\n",
       "    </tr>\n",
       "    <tr>\n",
       "      <th>65530</th>\n",
       "      <td>False</td>\n",
       "      <td>False</td>\n",
       "      <td>False</td>\n",
       "      <td>False</td>\n",
       "      <td>False</td>\n",
       "      <td>False</td>\n",
       "      <td>False</td>\n",
       "      <td>False</td>\n",
       "      <td>False</td>\n",
       "      <td>False</td>\n",
       "      <td>False</td>\n",
       "      <td>False</td>\n",
       "    </tr>\n",
       "    <tr>\n",
       "      <th>65531</th>\n",
       "      <td>False</td>\n",
       "      <td>False</td>\n",
       "      <td>False</td>\n",
       "      <td>False</td>\n",
       "      <td>False</td>\n",
       "      <td>False</td>\n",
       "      <td>False</td>\n",
       "      <td>False</td>\n",
       "      <td>False</td>\n",
       "      <td>False</td>\n",
       "      <td>False</td>\n",
       "      <td>False</td>\n",
       "    </tr>\n",
       "  </tbody>\n",
       "</table>\n",
       "<p>65532 rows × 12 columns</p>\n",
       "</div>"
      ],
      "text/plain": [
       "       Source Port  Destination Port  NAT Source Port  NAT Destination Port  \\\n",
       "0            False             False            False                 False   \n",
       "1            False             False            False                 False   \n",
       "2            False             False            False                 False   \n",
       "3            False             False            False                 False   \n",
       "4            False             False            False                 False   \n",
       "...            ...               ...              ...                   ...   \n",
       "65527        False             False            False                 False   \n",
       "65528        False             False            False                 False   \n",
       "65529        False             False            False                 False   \n",
       "65530        False             False            False                 False   \n",
       "65531        False             False            False                 False   \n",
       "\n",
       "       Bytes  Bytes Sent  Bytes Received  Packets  Elapsed Time (sec)  \\\n",
       "0      False       False           False    False               False   \n",
       "1      False       False           False    False               False   \n",
       "2      False       False           False    False               False   \n",
       "3      False       False           False    False               False   \n",
       "4      False       False           False    False               False   \n",
       "...      ...         ...             ...      ...                 ...   \n",
       "65527  False       False           False    False               False   \n",
       "65528  False       False           False    False               False   \n",
       "65529  False       False           False    False               False   \n",
       "65530  False       False           False    False               False   \n",
       "65531  False       False           False    False               False   \n",
       "\n",
       "       pkts_sent  pkts_received  Action  \n",
       "0          False          False   False  \n",
       "1          False          False   False  \n",
       "2          False          False   False  \n",
       "3          False          False   False  \n",
       "4          False          False   False  \n",
       "...          ...            ...     ...  \n",
       "65527      False          False   False  \n",
       "65528      False          False   False  \n",
       "65529      False          False   False  \n",
       "65530      False          False   False  \n",
       "65531      False          False   False  \n",
       "\n",
       "[65532 rows x 12 columns]"
      ]
     },
     "execution_count": 10,
     "metadata": {},
     "output_type": "execute_result"
    }
   ],
   "source": [
    "df.isnull()      \n",
    "# Returns a boolean matrix, if the value is NaN then True otherwise False"
   ]
  },
  {
   "cell_type": "code",
   "execution_count": 11,
   "id": "e7763bdc",
   "metadata": {},
   "outputs": [
    {
     "data": {
      "text/plain": [
       "Source Port             0\n",
       "Destination Port        0\n",
       "NAT Source Port         0\n",
       "NAT Destination Port    0\n",
       "Bytes                   0\n",
       "Bytes Sent              0\n",
       "Bytes Received          0\n",
       "Packets                 0\n",
       "Elapsed Time (sec)      0\n",
       "pkts_sent               0\n",
       "pkts_received           0\n",
       "Action                  0\n",
       "dtype: int64"
      ]
     },
     "execution_count": 11,
     "metadata": {},
     "output_type": "execute_result"
    }
   ],
   "source": [
    "df.isnull().sum() \n",
    "# Returns the column names along with the number of NaN values in that particular column"
   ]
  },
  {
   "cell_type": "code",
   "execution_count": 12,
   "id": "caea14d9",
   "metadata": {
    "scrolled": true
   },
   "outputs": [
    {
     "name": "stdout",
     "output_type": "stream",
     "text": [
      "allow         37640\n",
      "deny          14987\n",
      "drop          12851\n",
      "reset-both       54\n",
      "Name: Action, dtype: int64\n"
     ]
    }
   ],
   "source": [
    "print(df['Action'].value_counts())"
   ]
  },
  {
   "cell_type": "markdown",
   "id": "ae9d196d",
   "metadata": {},
   "source": [
    "#### Visualisation of Relationships Between Variables:"
   ]
  },
  {
   "cell_type": "code",
   "execution_count": 13,
   "id": "bdd4c41e",
   "metadata": {},
   "outputs": [
    {
     "data": {
      "image/png": "[encoded data removed]",
      "text/plain": [
       "<Figure size 720x720 with 2 Axes>"
      ]
     },
     "metadata": {
      "needs_background": "light"
     },
     "output_type": "display_data"
    }
   ],
   "source": [
    "plt.figure(figsize=(10,10))\n",
    "sns.heatmap(df.corr())\n",
    "\n",
    "plt.show()"
   ]
  },
  {
   "cell_type": "markdown",
   "id": "13dac2ea",
   "metadata": {},
   "source": [
    "Given this understanding, there is a relationship between the number of packets sent and the bytes sent. More packets sent typically imply more bytes sent, as each packet carries a portion of the total data payload.\n",
    "Similarly, the number of packets received correlates with the bytes received."
   ]
  },
  {
   "cell_type": "markdown",
   "id": "ba060452",
   "metadata": {},
   "source": [
    "#### Target \"ACTION\" Distribution "
   ]
  },
  {
   "cell_type": "code",
   "execution_count": 14,
   "id": "5a74b4ee",
   "metadata": {},
   "outputs": [
    {
     "data": {
      "image/png": "[encoded data removed]",
      "text/plain": [
       "<Figure size 576x576 with 1 Axes>"
      ]
     },
     "metadata": {},
     "output_type": "display_data"
    }
   ],
   "source": [
    "# Set the figure size\n",
    "plt.figure(figsize=(8, 8))\n",
    "# Plot pie chart\n",
    "df['Action'].value_counts().plot(kind='pie', autopct='%1.1f%%', startangle=90)\n",
    "plt.title('Distribution of Action')\n",
    "plt.axis('equal')  # Equal aspect ratio ensures that pie is drawn as a circle.\n",
    "plt.show()"
   ]
  },
  {
   "cell_type": "markdown",
   "id": "7970a93a",
   "metadata": {},
   "source": [
    "Action \"reset-both\" is very rare, this will be extremely hard to predict"
   ]
  },
  {
   "cell_type": "markdown",
   "id": "bc478f30",
   "metadata": {},
   "source": [
    "#### Categorical Features "
   ]
  },
  {
   "cell_type": "code",
   "execution_count": 15,
   "id": "c37dba11",
   "metadata": {},
   "outputs": [],
   "source": [
    "#Categorical Features \n",
    "cat_features = ['Source Port', 'Destination Port', 'NAT Source Port', 'NAT Destination Port']"
   ]
  },
  {
   "cell_type": "code",
   "execution_count": 16,
   "id": "9d16cb7f",
   "metadata": {},
   "outputs": [
    {
     "name": "stdout",
     "output_type": "stream",
     "text": [
      "Feature: Source Port\n",
      "58638    840\n",
      "27005    513\n",
      "443      273\n",
      "57470    222\n",
      "49418    210\n",
      "6881     177\n",
      "0        173\n",
      "50584    116\n",
      "3478     105\n",
      "26900    102\n",
      "5588      87\n",
      "42298     84\n",
      "48817     82\n",
      "45941     77\n",
      "50265     75\n",
      "Name: Source Port, dtype: int64\n",
      "\n"
     ]
    },
    {
     "data": {
      "image/png": "[encoded data removed]",
      "text/plain": [
       "<Figure size 576x576 with 1 Axes>"
      ]
     },
     "metadata": {
      "needs_background": "light"
     },
     "output_type": "display_data"
    },
    {
     "name": "stdout",
     "output_type": "stream",
     "text": [
      "Feature: Destination Port\n",
      "53       15414\n",
      "445      12891\n",
      "443      11684\n",
      "80        4035\n",
      "25174     1087\n",
      "5900       909\n",
      "37965      826\n",
      "22114      767\n",
      "64147      756\n",
      "50584      717\n",
      "57470      671\n",
      "44847      626\n",
      "35440      428\n",
      "51505      375\n",
      "26467      371\n",
      "Name: Destination Port, dtype: int64\n",
      "\n"
     ]
    },
    {
     "data": {
      "image/png": "[encoded data removed]",
      "text/plain": [
       "<Figure size 576x576 with 1 Axes>"
      ]
     },
     "metadata": {
      "needs_background": "light"
     },
     "output_type": "display_data"
    },
    {
     "name": "stdout",
     "output_type": "stream",
     "text": [
      "Feature: NAT Source Port\n",
      "0        28432\n",
      "48817       83\n",
      "58638       51\n",
      "50116       15\n",
      "7986         5\n",
      "30399        5\n",
      "43757        5\n",
      "57880        5\n",
      "57596        5\n",
      "60868        5\n",
      "14591        5\n",
      "22           4\n",
      "19874        4\n",
      "49244        4\n",
      "50600        4\n",
      "Name: NAT Source Port, dtype: int64\n",
      "\n"
     ]
    },
    {
     "data": {
      "image/png": "[encoded data removed]",
      "text/plain": [
       "<Figure size 576x576 with 1 Axes>"
      ]
     },
     "metadata": {
      "needs_background": "light"
     },
     "output_type": "display_data"
    },
    {
     "name": "stdout",
     "output_type": "stream",
     "text": [
      "Feature: NAT Destination Port\n",
      "0        28432\n",
      "53       15094\n",
      "443      11678\n",
      "80        4028\n",
      "27015      234\n",
      "27017      160\n",
      "123        156\n",
      "3389       156\n",
      "6881       143\n",
      "5228       100\n",
      "7000        94\n",
      "27016       86\n",
      "15000       84\n",
      "5222        71\n",
      "51413       69\n",
      "Name: NAT Destination Port, dtype: int64\n",
      "\n"
     ]
    },
    {
     "data": {
      "image/png": "[encoded data removed]",
      "text/plain": [
       "<Figure size 576x576 with 1 Axes>"
      ]
     },
     "metadata": {
      "needs_background": "light"
     },
     "output_type": "display_data"
    }
   ],
   "source": [
    "for f in cat_features:\n",
    "    \n",
    "    print('Feature:', f)\n",
    "    print(df[f].value_counts()[0:15])\n",
    "    print()\n",
    "    \n",
    "    plt.figure(figsize=(8, 8))\n",
    "    df[f].value_counts()[0:15].plot(kind='barh')\n",
    "    plt.title(f)\n",
    "    plt.xlabel('How many times port has been mentioned in the dataset')\n",
    "    plt.ylabel('Port number')\n",
    "    plt.grid()\n",
    "    plt.show()"
   ]
  },
  {
   "cell_type": "markdown",
   "id": "9b76e420",
   "metadata": {},
   "source": [
    "#### Numerical Features "
   ]
  },
  {
   "cell_type": "markdown",
   "id": "3eef2690",
   "metadata": {},
   "source": [
    "visualisation of the range of each numerical feature from smallest to largest"
   ]
  },
  {
   "cell_type": "code",
   "execution_count": 25,
   "id": "498bcd76",
   "metadata": {},
   "outputs": [
    {
     "data": {
      "image/png": "[encoded data removed]",
      "text/plain": [
       "<Figure size 864x576 with 1 Axes>"
      ]
     },
     "metadata": {
      "needs_background": "light"
     },
     "output_type": "display_data"
    }
   ],
   "source": [
    "# Define the numerical features excluding 'Elapsed Time (sec)'\n",
    "features_num = ['Bytes', 'Bytes Sent', 'Bytes Received', 'Packets', 'pkts_sent', 'pkts_received']\n",
    "\n",
    "# Create box plots for each numerical feature\n",
    "plt.figure(figsize=(12, 8))\n",
    "sns.boxplot(data=df[features_num], orient='h')\n",
    "plt.title('Box plots of Numerical Features')\n",
    "plt.xlabel('Value')\n",
    "plt.ylabel('Feature')\n",
    "plt.grid(True)\n",
    "plt.show()"
   ]
  },
  {
   "cell_type": "markdown",
   "id": "d90cddf3",
   "metadata": {},
   "source": [
    "Seems like packets and bytes have big difference in range and different units. It is time to use Normalization techniques :"
   ]
  },
  {
   "cell_type": "code",
   "execution_count": 27,
   "id": "3cc3f217",
   "metadata": {},
   "outputs": [
    {
     "data": {
      "image/png": "[encoded data removed]",
      "text/plain": [
       "<Figure size 864x576 with 1 Axes>"
      ]
     },
     "metadata": {
      "needs_background": "light"
     },
     "output_type": "display_data"
    }
   ],
   "source": [
    "# Create a MinMaxScaler object\n",
    "scaler = MinMaxScaler()\n",
    "\n",
    "# Normalize the numerical features\n",
    "df_normalized = df.copy()\n",
    "df_normalized[features_num] = scaler.fit_transform(df_normalized[features_num])\n",
    "\n",
    "# Create box plots for each normalized numerical feature\n",
    "plt.figure(figsize=(12, 8))\n",
    "sns.boxplot(data=df_normalized[features_num], orient='h')\n",
    "plt.title('Box plots of Normalized Numerical Features')\n",
    "plt.xlabel('Normalized Value')\n",
    "plt.ylabel('Feature')\n",
    "plt.grid(True)\n",
    "plt.show()"
   ]
  },
  {
   "cell_type": "markdown",
   "id": "fbe0769a",
   "metadata": {},
   "source": [
    "Core of the method\n",
    "\n",
    "A way to normalize the input features/variables is the Min-Max scaler. By doing so, all features will be transformed into the range [0,1] meaning that the minimum and maximum value of a feature/variable is going to be 0 and 1, respectively.\n",
    "\n",
    "\n",
    "Why to normalize prior to model fitting?\n",
    "\n",
    "The main idea behind normalization/standardization is always the same. Variables that are measured at different scales do not contribute equally to the model fitting & model learned function and might end up creating a bias. Thus, to deal with this potential problem feature-wise normalization such as MinMax Scaling is usually used prior to model fitting."
   ]
  },
  {
   "cell_type": "markdown",
   "id": "61120a55",
   "metadata": {},
   "source": [
    "## Target vs Features"
   ]
  },
  {
   "cell_type": "markdown",
   "id": "ee736a61",
   "metadata": {},
   "source": [
    "#### Categorical Features "
   ]
  },
  {
   "cell_type": "code",
   "execution_count": null,
   "id": "81b6e200",
   "metadata": {},
   "outputs": [],
   "source": [
    "#Categorical Features \n",
    "df['Action'].value_counts()"
   ]
  },
  {
   "cell_type": "code",
   "execution_count": null,
   "id": "85d632fb",
   "metadata": {},
   "outputs": [],
   "source": [
    "src_port_top15 = df[\"Source Port\"].value_counts()[0:15]\n",
    "src_port_top15"
   ]
  },
  {
   "cell_type": "code",
   "execution_count": null,
   "id": "51f8308e",
   "metadata": {},
   "outputs": [],
   "source": [
    "# Get the top 15 source ports\n",
    "top_15_ports = df[\"Source Port\"].value_counts().head(15)\n",
    "top_15_ports\n"
   ]
  },
  {
   "cell_type": "code",
   "execution_count": null,
   "id": "c54d7389",
   "metadata": {
    "scrolled": true
   },
   "outputs": [],
   "source": [
    "# Get the top 15 source ports\n",
    "top_15_ports = df[\"Source Port\"].value_counts().head(15).index\n",
    "\n",
    "# Filter the DataFrame for the top 15 source ports\n",
    "df_top_ports = df[df['Source Port'].isin(top_15_ports)]\n",
    "\n",
    "# Create a grouped bar plot\n",
    "plt.figure(figsize=(12, 8))\n",
    "sns.countplot(x='Source Port', hue='Action', data=df_top_ports)\n",
    "plt.title('Actions by Top 15 Source Ports')\n",
    "plt.xlabel('Source Port')\n",
    "plt.ylabel('Count')\n",
    "plt.xticks(rotation=45)\n",
    "plt.legend(title='Action')\n",
    "plt.tight_layout()\n",
    "plt.show()"
   ]
  },
  {
   "cell_type": "code",
   "execution_count": null,
   "id": "0d5acd90",
   "metadata": {},
   "outputs": [],
   "source": [
    "natsrc_port_top15 = df[\"NAT Source Port\"].value_counts()[0:15]\n",
    "natsrc_port_top15"
   ]
  },
  {
   "cell_type": "code",
   "execution_count": null,
   "id": "fc6ca46b",
   "metadata": {},
   "outputs": [],
   "source": []
  },
  {
   "cell_type": "code",
   "execution_count": null,
   "id": "cc19aa10",
   "metadata": {},
   "outputs": [],
   "source": []
  }
 ],
 "metadata": {
  "kernelspec": {
   "display_name": "Python 3 (ipykernel)",
   "language": "python",
   "name": "python3"
  },
  "language_info": {
   "codemirror_mode": {
    "name": "ipython",
    "version": 3
   },
   "file_extension": ".py",
   "mimetype": "text/x-python",
   "name": "python",
   "nbconvert_exporter": "python",
   "pygments_lexer": "ipython3",
   "version": "3.9.12"
  }
 },
 "nbformat": 4,
 "nbformat_minor": 5
}
